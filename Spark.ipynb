{
 "cells": [
  {
   "cell_type": "code",
   "execution_count": 17,
   "id": "daf7df68",
   "metadata": {},
   "outputs": [],
   "source": [
    "from pyspark.sql import SparkSession"
   ]
  },
  {
   "cell_type": "code",
   "execution_count": 4,
   "id": "b8c3e248",
   "metadata": {},
   "outputs": [],
   "source": [
    "spark = SparkSession.builder.master('local').appName('Test_Spark').getOrCreate()"
   ]
  },
  {
   "cell_type": "code",
   "execution_count": 83,
   "id": "c190d7c3",
   "metadata": {},
   "outputs": [
    {
     "data": {
      "text/html": [
       "\n",
       "            <div>\n",
       "                <p><b>SparkSession - in-memory</b></p>\n",
       "                \n",
       "        <div>\n",
       "            <p><b>SparkContext</b></p>\n",
       "\n",
       "            <p><a href=\"http://Arisu:4040\">Spark UI</a></p>\n",
       "\n",
       "            <dl>\n",
       "              <dt>Version</dt>\n",
       "                <dd><code>v3.2.4</code></dd>\n",
       "              <dt>Master</dt>\n",
       "                <dd><code>local</code></dd>\n",
       "              <dt>AppName</dt>\n",
       "                <dd><code>Test_Spark</code></dd>\n",
       "            </dl>\n",
       "        </div>\n",
       "        \n",
       "            </div>\n",
       "        "
      ],
      "text/plain": [
       "<pyspark.sql.session.SparkSession at 0x1f1a0a6bb20>"
      ]
     },
     "execution_count": 83,
     "metadata": {},
     "output_type": "execute_result"
    }
   ],
   "source": [
    "### Check if Apache Spark is working or not\n",
    "spark"
   ]
  },
  {
   "cell_type": "code",
   "execution_count": 50,
   "id": "730feba2",
   "metadata": {},
   "outputs": [],
   "source": [
    "# Read the dataset\n",
    "df_pyspark = spark.read.csv('Salary_Data.csv', header=True, inferSchema=True)"
   ]
  },
  {
   "cell_type": "code",
   "execution_count": 51,
   "id": "4b9a8dfc",
   "metadata": {},
   "outputs": [
    {
     "data": {
      "text/plain": [
       "[('YearsExperience', 'double'), ('Age', 'double'), ('Salary', 'int')]"
      ]
     },
     "execution_count": 51,
     "metadata": {},
     "output_type": "execute_result"
    }
   ],
   "source": [
    "df_pyspark.dtypes"
   ]
  },
  {
   "cell_type": "code",
   "execution_count": 52,
   "id": "3e3a8132",
   "metadata": {},
   "outputs": [
    {
     "name": "stdout",
     "output_type": "stream",
     "text": [
      "+---------------+----+------+\n",
      "|YearsExperience| Age|Salary|\n",
      "+---------------+----+------+\n",
      "|            1.1|21.0| 39343|\n",
      "|            1.3|21.5| 46205|\n",
      "|            1.5|21.7| 37731|\n",
      "|            2.0|22.0| 43525|\n",
      "|            2.2|22.2| 39891|\n",
      "|            2.9|23.0| 56642|\n",
      "|            3.0|23.0| 60150|\n",
      "|            3.2|23.3| 54445|\n",
      "|            3.2|23.3| 64445|\n",
      "|            3.7|23.6| 57189|\n",
      "|            3.9|23.9| 63218|\n",
      "|            4.0|24.0| 55794|\n",
      "|            4.0|24.0| 56957|\n",
      "|            4.1|24.0| 57081|\n",
      "|            4.5|25.0| 61111|\n",
      "|            4.9|25.0| 67938|\n",
      "|            5.1|26.0| 66029|\n",
      "|            5.3|27.0| 83088|\n",
      "|            5.9|28.0| 81363|\n",
      "|            6.0|29.0| 93940|\n",
      "+---------------+----+------+\n",
      "only showing top 20 rows\n",
      "\n"
     ]
    }
   ],
   "source": [
    "df_pyspark.show()"
   ]
  },
  {
   "cell_type": "code",
   "execution_count": 53,
   "id": "42c8f421",
   "metadata": {},
   "outputs": [],
   "source": [
    "from pyspark.ml.feature import VectorAssembler\n",
    "\n",
    "featureAssembler = VectorAssembler(inputCols=['Age', 'YearsExperience'], outputCol='Independent_Features')"
   ]
  },
  {
   "cell_type": "code",
   "execution_count": 54,
   "id": "99d8d0b6",
   "metadata": {},
   "outputs": [],
   "source": [
    "output = featureAssembler.transform(df_pyspark);"
   ]
  },
  {
   "cell_type": "code",
   "execution_count": 55,
   "id": "a20d8bc3",
   "metadata": {},
   "outputs": [
    {
     "name": "stdout",
     "output_type": "stream",
     "text": [
      "+---------------+----+------+--------------------+\n",
      "|YearsExperience| Age|Salary|Independent_Features|\n",
      "+---------------+----+------+--------------------+\n",
      "|            1.1|21.0| 39343|          [21.0,1.1]|\n",
      "|            1.3|21.5| 46205|          [21.5,1.3]|\n",
      "|            1.5|21.7| 37731|          [21.7,1.5]|\n",
      "|            2.0|22.0| 43525|          [22.0,2.0]|\n",
      "|            2.2|22.2| 39891|          [22.2,2.2]|\n",
      "|            2.9|23.0| 56642|          [23.0,2.9]|\n",
      "|            3.0|23.0| 60150|          [23.0,3.0]|\n",
      "|            3.2|23.3| 54445|          [23.3,3.2]|\n",
      "|            3.2|23.3| 64445|          [23.3,3.2]|\n",
      "|            3.7|23.6| 57189|          [23.6,3.7]|\n",
      "|            3.9|23.9| 63218|          [23.9,3.9]|\n",
      "|            4.0|24.0| 55794|          [24.0,4.0]|\n",
      "|            4.0|24.0| 56957|          [24.0,4.0]|\n",
      "|            4.1|24.0| 57081|          [24.0,4.1]|\n",
      "|            4.5|25.0| 61111|          [25.0,4.5]|\n",
      "|            4.9|25.0| 67938|          [25.0,4.9]|\n",
      "|            5.1|26.0| 66029|          [26.0,5.1]|\n",
      "|            5.3|27.0| 83088|          [27.0,5.3]|\n",
      "|            5.9|28.0| 81363|          [28.0,5.9]|\n",
      "|            6.0|29.0| 93940|          [29.0,6.0]|\n",
      "+---------------+----+------+--------------------+\n",
      "only showing top 20 rows\n",
      "\n"
     ]
    }
   ],
   "source": [
    "output.show()"
   ]
  },
  {
   "cell_type": "code",
   "execution_count": 56,
   "id": "87a5d25c",
   "metadata": {},
   "outputs": [],
   "source": [
    "finalData = output.select('Independent_Features', 'Salary')"
   ]
  },
  {
   "cell_type": "code",
   "execution_count": 57,
   "id": "cc715545",
   "metadata": {},
   "outputs": [
    {
     "name": "stdout",
     "output_type": "stream",
     "text": [
      "+--------------------+------+\n",
      "|Independent_Features|Salary|\n",
      "+--------------------+------+\n",
      "|          [21.0,1.1]| 39343|\n",
      "|          [21.5,1.3]| 46205|\n",
      "|          [21.7,1.5]| 37731|\n",
      "|          [22.0,2.0]| 43525|\n",
      "|          [22.2,2.2]| 39891|\n",
      "|          [23.0,2.9]| 56642|\n",
      "|          [23.0,3.0]| 60150|\n",
      "|          [23.3,3.2]| 54445|\n",
      "|          [23.3,3.2]| 64445|\n",
      "|          [23.6,3.7]| 57189|\n",
      "|          [23.9,3.9]| 63218|\n",
      "|          [24.0,4.0]| 55794|\n",
      "|          [24.0,4.0]| 56957|\n",
      "|          [24.0,4.1]| 57081|\n",
      "|          [25.0,4.5]| 61111|\n",
      "|          [25.0,4.9]| 67938|\n",
      "|          [26.0,5.1]| 66029|\n",
      "|          [27.0,5.3]| 83088|\n",
      "|          [28.0,5.9]| 81363|\n",
      "|          [29.0,6.0]| 93940|\n",
      "+--------------------+------+\n",
      "only showing top 20 rows\n",
      "\n"
     ]
    }
   ],
   "source": [
    "finalData.show()"
   ]
  },
  {
   "cell_type": "code",
   "execution_count": 66,
   "id": "b4daaacf",
   "metadata": {},
   "outputs": [],
   "source": [
    "from pyspark.ml.regression import LinearRegression"
   ]
  },
  {
   "cell_type": "code",
   "execution_count": 67,
   "id": "e09630ea",
   "metadata": {},
   "outputs": [],
   "source": [
    "### Training Data = 75% and Testing Data = 25%\n",
    "trainingData, testingData = finalData.randomSplit([0.75, 0.25])"
   ]
  },
  {
   "cell_type": "code",
   "execution_count": 68,
   "id": "19cbde9a",
   "metadata": {},
   "outputs": [],
   "source": [
    "trainingData, testingData = finalData.randomSplit([0.75, 0.25])\n",
    "\n",
    "### labelCol is the output column\n",
    "regressor = LinearRegression(featuresCol='Independent_Features', labelCol='Salary')\n",
    "regressor = regressor.fit(trainingData)"
   ]
  },
  {
   "cell_type": "code",
   "execution_count": 69,
   "id": "9ac9bc99",
   "metadata": {},
   "outputs": [
    {
     "data": {
      "text/plain": [
       "DenseVector([1261.3458, 7438.0712])"
      ]
     },
     "execution_count": 69,
     "metadata": {},
     "output_type": "execute_result"
    }
   ],
   "source": [
    "### Coefficients of the regressor\n",
    "regressor.coefficients"
   ]
  },
  {
   "cell_type": "code",
   "execution_count": 70,
   "id": "3ad9a054",
   "metadata": {},
   "outputs": [
    {
     "data": {
      "text/plain": [
       "3220.6568348762585"
      ]
     },
     "execution_count": 70,
     "metadata": {},
     "output_type": "execute_result"
    }
   ],
   "source": [
    "### Intercepts of the regressor\n",
    "regressor.intercept"
   ]
  },
  {
   "cell_type": "code",
   "execution_count": 71,
   "id": "ea1ac7cc",
   "metadata": {},
   "outputs": [],
   "source": [
    "### Predict the results\n",
    "predictedResults = regressor.evaluate(testingData)"
   ]
  },
  {
   "cell_type": "code",
   "execution_count": 72,
   "id": "a26a0341",
   "metadata": {},
   "outputs": [
    {
     "name": "stdout",
     "output_type": "stream",
     "text": [
      "+--------------------+------+------------------+\n",
      "|Independent_Features|Salary|        prediction|\n",
      "+--------------------+------+------------------+\n",
      "|          [21.0,1.1]| 39343| 37890.79680295329|\n",
      "|          [21.5,1.3]| 46205| 40009.08394747862|\n",
      "|          [22.0,2.0]| 43525|45846.406715427715|\n",
      "|          [22.2,2.2]| 39891| 47586.29012285955|\n",
      "|          [23.3,3.2]| 54445| 56411.84173904989|\n",
      "|          [23.3,3.2]| 64445| 56411.84173904989|\n",
      "|          [24.0,4.0]| 56957|63245.240789746065|\n",
      "|          [24.0,4.1]| 57081| 63989.04791443081|\n",
      "|          [26.0,5.1]| 66029| 73949.81074190163|\n",
      "|          [31.0,7.9]|101302|101083.13918463296|\n",
      "|          [34.0,9.0]|105582|113049.05492710021|\n",
      "|         [38.0,10.5]|121872| 129251.5449586181|\n",
      "+--------------------+------+------------------+\n",
      "\n"
     ]
    },
    {
     "name": "stderr",
     "output_type": "stream",
     "text": [
      "C:\\Users\\Sam\\anaconda3\\lib\\site-packages\\pyspark\\sql\\context.py:125: FutureWarning: Deprecated in 3.0.0. Use SparkSession.builder.getOrCreate() instead.\n",
      "  warnings.warn(\n"
     ]
    }
   ],
   "source": [
    "predictedResults.predictions.show()"
   ]
  },
  {
   "cell_type": "code",
   "execution_count": 73,
   "id": "ac1f5c4a",
   "metadata": {},
   "outputs": [
    {
     "name": "stdout",
     "output_type": "stream",
     "text": [
      "Mean Absolute Error 5320.614686251601\n",
      "Mean Squared Error 36147468.44206502\n"
     ]
    }
   ],
   "source": [
    "### Find the errors\n",
    "print('Mean Absolute Error', predictedResults.meanAbsoluteError)\n",
    "print('Mean Squared Error', predictedResults.meanSquaredError)"
   ]
  },
  {
   "cell_type": "code",
   "execution_count": 65,
   "id": "c1009558",
   "metadata": {},
   "outputs": [],
   "source": [
    "import matplotlib.pyplot as plt"
   ]
  },
  {
   "cell_type": "code",
   "execution_count": 74,
   "id": "0c2e7bbf",
   "metadata": {},
   "outputs": [],
   "source": [
    "linearRegressionPrediction = regressor.transform(testingData).select('Salary', 'prediction')"
   ]
  },
  {
   "cell_type": "code",
   "execution_count": 76,
   "id": "a52747a0",
   "metadata": {},
   "outputs": [],
   "source": [
    "### Converting the PySpark dataframe to a Pandas dataframe\n",
    "lrPredictionDF = linearRegressionPrediction.toPandas().sort_values('S')"
   ]
  },
  {
   "cell_type": "code",
   "execution_count": 82,
   "id": "803188a0",
   "metadata": {},
   "outputs": [
    {
     "data": {
      "image/png": "[encoded data removed]",
      "text/plain": [
       "<Figure size 640x480 with 1 Axes>"
      ]
     },
     "metadata": {},
     "output_type": "display_data"
    }
   ],
   "source": [
    "# Plot the actual vs predicted values as a scatter plot\n",
    "plt.scatter(lrPredictionDF['Salary'], lrPredictionDF['prediction'])\n",
    "plt.xlabel('Actual Salary')\n",
    "plt.ylabel('Predicted Salary')\n",
    "plt.title('Linear Regression Predictions')\n",
    "plt.show()"
   ]
  }
 ],
 "metadata": {
  "kernelspec": {
   "display_name": "Python 3 (ipykernel)",
   "language": "python",
   "name": "python3"
  },
  "language_info": {
   "codemirror_mode": {
    "name": "ipython",
    "version": 3
   },
   "file_extension": ".py",
   "mimetype": "text/x-python",
   "name": "python",
   "nbconvert_exporter": "python",
   "pygments_lexer": "ipython3",
   "version": "3.10.9"
  }
 },
 "nbformat": 4,
 "nbformat_minor": 5
}
